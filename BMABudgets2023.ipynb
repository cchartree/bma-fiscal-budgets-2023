{
 "cells": [
  {
   "cell_type": "code",
   "execution_count": null,
   "id": "0a162506",
   "metadata": {},
   "outputs": [],
   "source": [
    "import PyPDF2 as ppdf\n",
    "import matplotlib\n",
    "import matplotlib.pyplot as plt\n",
    "import plotly.express as px\n",
    "import re\n",
    "import os\n",
    "import pandas as pd\n",
    "import numpy as np\n",
    "import math\n",
    "import gspread\n",
    "import panel as pn\n",
    "from panel.interact import interact\n",
    "pn.extension()\n",
    "import hvplot.pandas\n",
    "import holoviews as hv\n",
    "hv.extension('bokeh')\n",
    "from bokeh.models.formatters import NumeralTickFormatter\n",
    "from bokeh.models import DatetimeTickFormatter, HoverTool"
   ]
  },
  {
   "cell_type": "markdown",
   "id": "3bbb528f",
   "metadata": {},
   "source": [
    "# [01]  Import PDFs\n",
    "- User PyPDF2 to read texts in PDF file\n",
    "- Clean and break components of texts to get labels (hierarchies) and numbers\n",
    "- Append all pages together"
   ]
  },
  {
   "cell_type": "code",
   "execution_count": null,
   "id": "fa8c3707",
   "metadata": {},
   "outputs": [],
   "source": [
    "path = 'PDFs/'"
   ]
  },
  {
   "cell_type": "code",
   "execution_count": null,
   "id": "6065e2e9",
   "metadata": {},
   "outputs": [],
   "source": [
    "dslist = pd.DataFrame(os.listdir(path))\n",
    "readlist = path + dslist\n",
    "readlist = readlist.iloc[:,0].tolist()\n",
    "\n",
    "print('Total ' + str(\"{:,}\").format(len(dslist)) + ' files to extract')\n",
    "print()\n",
    "\n",
    "dslist.iloc[:,0].tolist()"
   ]
  },
  {
   "cell_type": "code",
   "execution_count": null,
   "id": "5424b5d8",
   "metadata": {},
   "outputs": [],
   "source": [
    "src = pd.DataFrame()\n",
    "p01 = []\n",
    "\n",
    "pdfobj = open(readlist[0], 'rb')\n",
    "pdffile = ppdf.PdfReader(pdfobj)\n",
    "npages = len(pdffile.pages[5:])"
   ]
  },
  {
   "cell_type": "code",
   "execution_count": null,
   "id": "3a1c6a4b",
   "metadata": {},
   "outputs": [],
   "source": [
    "begpage = 5"
   ]
  },
  {
   "cell_type": "code",
   "execution_count": null,
   "id": "60ec96a7",
   "metadata": {},
   "outputs": [],
   "source": [
    "def cleanpdf(pg):\n",
    "    \n",
    "    # Reading texts within pdf file\n",
    "    df = pdffile.pages[pg].extract_text().strip()\n",
    "    \n",
    "    # Break itmes by the end of each numbers, followed by formatting\n",
    "    df = df.replace('บาท\\n','|').replace('\\n',' ').replace('|','\\n').replace('บาท','')\n",
    "    df = df.replace('  ',' ').replace('  ',' ').replace('  ',' ').replace('  ',' ').replace('  ',' ')\n",
    "    df = df.replace(',','')\n",
    "    \n",
    "    # After formatting, break text objects into lines, and feed into DataFrame\n",
    "    df = df.splitlines()\n",
    "    df = pd.DataFrame(df)\n",
    "    \n",
    "    # Take the last part to get only the numbers, and merge back to the DataFrame\n",
    "    df = df.rename(columns={0: 'Raw'})\n",
    "    df['Right'] = df['Raw'].str[-15:]\n",
    "    df['Right2'] = df['Right'].str.split()\n",
    "    df['Budgets'] = [n[-1] for n in df['Right2']]\n",
    "#     df['Budgets'] = df['Right'].str.extractall('(\\d+)').unstack()\n",
    "#     df['Budgets'] = [s[e:] for (s, e) in zip(df['Right'], df['N'])]\n",
    "    \n",
    "    # Truncate only the texts (no numbers), as labels\n",
    "    df['Raw2'] = [s.replace(r,'') for (s, r) in zip(df['Raw'], df['Budgets'])]\n",
    "#     df['Raw2'] = df['Raw'].replace(df['Budgets'],'')\n",
    "#     df['Raw2'] = [s[0:e] for (s, e) in zip(df['Raw'], df['L'])]\n",
    "    \n",
    "    # Rename columns\n",
    "    df = df[['Raw2', 'Budgets']]\n",
    "    \n",
    "    # Assign flags for headers for hierarchies, as well as page numbers\n",
    "    df['h1'] = df['Raw2'].str.contains(r'\\(\\d+\\)').astype('int')\n",
    "    df['h2'] = df['Raw2'].str.contains(r'^[กขค]\\.').astype('int')\n",
    "    df['flag page'] = df['Raw2'].str.contains(r'^\\d+\\ ').astype('int')\n",
    "    df['T'] = np.where(df['flag page'] == 1, df['Raw2'].str.find(' '), 0)\n",
    "    \n",
    "    # Assign values based on flags\n",
    "    df['Page'] = pd.to_numeric([s[0:e] for (s, e) in zip(df['Raw2'], df['T'])])\n",
    "    df['Raw2'] = [s[e:] for (s, e) in zip(df['Raw2'], df['T'])]\n",
    "    df['h1desc'] = np.where(df['h1'] == 1, df['Raw2'], np.nan)\n",
    "    df['h2desc'] = np.where(df['h2'] == 1, df['Raw2'], np.nan)\n",
    "    \n",
    "    # Drop columns\n",
    "    df = df.drop(columns={'T', 'flag page'})\n",
    "    \n",
    "    return df"
   ]
  },
  {
   "cell_type": "code",
   "execution_count": null,
   "id": "4c0c0464",
   "metadata": {},
   "outputs": [],
   "source": [
    "p01 = cleanpdf(begpage)\n",
    "print(p01['Raw2'][0])\n",
    "p01"
   ]
  },
  {
   "cell_type": "code",
   "execution_count": null,
   "id": "9c396254",
   "metadata": {},
   "outputs": [],
   "source": [
    "batch_from = 6\n",
    "batch_to = 86\n",
    "\n",
    "for i in np.arange(batch_from,batch_to):\n",
    "    print(str(\"{:02}\".format(i)), end=' ')\n",
    "    ii = int(i)\n",
    "    p02 = cleanpdf(ii)\n",
    "    p01 = pd.concat([p01, p02])"
   ]
  },
  {
   "cell_type": "code",
   "execution_count": null,
   "id": "b45beb59",
   "metadata": {},
   "outputs": [],
   "source": [
    "len(p01['Page'].drop_duplicates())"
   ]
  },
  {
   "cell_type": "code",
   "execution_count": null,
   "id": "c99c29eb",
   "metadata": {},
   "outputs": [],
   "source": [
    "p03 = p01\n",
    "p03['Budgets'] = p03['Budgets'].str.extract('(\\d+)').astype('int')\n",
    "p03['Budgets Mn'] = (p03['Budgets'] / 1e6).astype('float64')\n",
    "p03['Page'] = p03['Page'].fillna(method='ffill')\n",
    "p03['h1desc'] = p03['h1desc'].fillna(method='ffill')\n",
    "p03['h2desc'] = p03['h2desc'].fillna(method='ffill')\n",
    "p03['h2desc'] = p03['h2desc'].fillna('')\n",
    "p03.tail(10)"
   ]
  },
  {
   "cell_type": "code",
   "execution_count": null,
   "id": "297ad18b",
   "metadata": {
    "scrolled": true
   },
   "outputs": [],
   "source": [
    "p04 = p03[(p03['h1'] == 0) & (p03['h2'] == 0)]\n",
    "\n",
    "# Removing leading blank spaces\n",
    "p04['Raw2'] = np.where(p04['Raw2'].str.find(' ') == 0, p04['Raw2'].str[1:], p04['Raw2'])\n",
    "p04['Raw2'] = np.where(p04['Raw2'].str.find('.') == 1, '0' + p04['Raw2'], p04['Raw2'])\n",
    "p04['h1desc'] = np.where(p04['h1desc'].str.find(' ') == 0, p04['h1desc'].str[1:], p04['h1desc'])\n",
    "p04['h1desc'] = np.where(p04['h1desc'].str.find(')') == 2, p04['h1desc'].str.replace('(','(0'), p04['h1desc'])\n",
    "\n",
    "p04"
   ]
  },
  {
   "cell_type": "code",
   "execution_count": null,
   "id": "69adea76",
   "metadata": {},
   "outputs": [],
   "source": [
    "list_topics = [\n",
    "      'Generic Administrations'\n",
    "    , 'Maintenances'\n",
    "    , 'Projects'\n",
    "    , 'Communities'\n",
    "    , 'Floods'\n",
    "    , 'District Offices'\n",
    "    , 'Human Resources'\n",
    "    , 'Revenues'\n",
    "    , 'Trainings'\n",
    "    , 'Public Relations'\n",
    "    , 'Welfares'\n",
    "    , 'Waste Water Treatments'\n",
    "    , 'Hygienic Foods'\n",
    "    , 'Non-smoking Zones'\n",
    "    , 'Cleanings'\n",
    "    , 'Disease Controls'\n",
    "    , 'Law Enforcements'\n",
    "    , 'Green Zones'\n",
    "    , 'Traffic Managements'\n",
    "]    \n",
    "\n",
    "list_keywords = [\n",
    "      r'งานบริหารท'\n",
    "    , r'รุงรักษา|งานดูแล|ปรับปรุง'\n",
    "    , r'โครงการ'\n",
    "    , r'พัฒนาชุมชน'\n",
    "    , r'งานระบาย|ญหาน'\n",
    "    , r'กงานเขต'\n",
    "    , r'บุคลากร|บุคคล'\n",
    "    , r'บรายได'\n",
    "    , r'อบรม|หลักสูตร'\n",
    "    , r'ประชาสัมพ'\n",
    "    , r'สวัสดิการ'\n",
    "    , r'บัดน(.*)เสีย'\n",
    "    , r'อาหารปลอดภ'\n",
    "    , r'เขตปลอดบุหรี่'\n",
    "    , r'ความสะอาด'\n",
    "    , r'โรค'\n",
    "    , r'บังคับใช(.*)กฎหมาย'\n",
    "    , r'สวน(.*)สีเขียว'\n",
    "    , r'จราจร'\n",
    "]"
   ]
  },
  {
   "cell_type": "code",
   "execution_count": null,
   "id": "d2bb163f",
   "metadata": {},
   "outputs": [],
   "source": [
    "p05 = pd.DataFrame()\n",
    "p05 = p04\n",
    "\n",
    "# Assign tags based on detected texts\n",
    "def tags_keywords(lab,kw):\n",
    "    p05[lab] = p05['Raw2'].str.contains(kw).astype('int')\n",
    "    print(lab, kw, p05[p05[lab] == 1][lab].count())\n",
    "\n",
    "for i in range(len(list_topics)):\n",
    "    tags_keywords(list_topics[i], list_keywords[i])"
   ]
  },
  {
   "cell_type": "code",
   "execution_count": null,
   "id": "cfb3610f",
   "metadata": {},
   "outputs": [],
   "source": [
    "p06 = pd.DataFrame()\n",
    "p06 = p05\n",
    "p06['Chained Tags'] = 'All Categories'\n",
    "\n",
    "chained_tags = p05.columns.to_list()[8:]\n",
    "print(len(chained_tags))\n",
    "\n",
    "for i in range(len(chained_tags)):\n",
    "    tcol = 'tmpcol' + str(i)\n",
    "    p06[tcol] = np.where(p06[chained_tags[i]] == 1, chained_tags[i], '')  \n",
    "    p06['Chained Tags'] = p06['Chained Tags'] + '_' + p06[tcol]\n",
    "    p06 = p06.drop(tcol, axis=1)\n",
    "    \n",
    "p06['Chained Tags'].drop_duplicates()"
   ]
  },
  {
   "cell_type": "code",
   "execution_count": null,
   "id": "2e1f07d7",
   "metadata": {
    "scrolled": true
   },
   "outputs": [],
   "source": [
    "list_topics2 = list_topics\n",
    "list_topics2.append('All Categories')\n",
    "print(list_topics2)"
   ]
  },
  {
   "cell_type": "code",
   "execution_count": null,
   "id": "8693cd2a",
   "metadata": {},
   "outputs": [],
   "source": [
    "print(p06.shape)"
   ]
  },
  {
   "cell_type": "code",
   "execution_count": null,
   "id": "2bf9df73",
   "metadata": {},
   "outputs": [],
   "source": [
    "listrank = [\n",
    "      'h1desc'\n",
    "    , 'h2desc'\n",
    "    , 'Raw2'\n",
    "]\n",
    "\n",
    "numcol = ['Budgets Mn'] * len(listrank)\n",
    "\n",
    "tmp = p06\n",
    "\n",
    "for g , n in zip(listrank, numcol):\n",
    "    tmp2 = tmp[[g,n]].groupby([g], as_index=False)[n].agg('sum')\n",
    "    tmp2 = tmp2.sort_values(by=[n], ascending=False)\n",
    "    rcol = 'Budget Ranks ' + g\n",
    "    tmp2[rcol] = tmp2[n].rank(method='dense', ascending=False).astype('int')\n",
    "    p06 = pd.merge(p06, tmp2[[g,rcol]], how='left', on=[g])\n",
    "\n",
    "p06.head()"
   ]
  },
  {
   "cell_type": "code",
   "execution_count": null,
   "id": "13bc1ddd",
   "metadata": {},
   "outputs": [],
   "source": [
    "disp = p06"
   ]
  },
  {
   "cell_type": "markdown",
   "id": "2ee0750b",
   "metadata": {},
   "source": [
    "# "
   ]
  },
  {
   "cell_type": "markdown",
   "id": "ca3a09c7",
   "metadata": {},
   "source": [
    "# [02] Define Widgets\n",
    "\n",
    "- Filters \n",
    " - Multiple drop-down lists\n",
    "   - Departments\n",
    "   - Impact levels (BAU/Strategic)\n",
    "   - Tags (customised)\n",
    " - Text searches\n",
    " - Numeric budget hurdles as text box\n",
    " \n",
    " \n",
    "- Sliders\n",
    " - Numeric budget hurdles\n",
    " - Ranks by Departments/Impact levels"
   ]
  },
  {
   "cell_type": "markdown",
   "id": "2a6e0622",
   "metadata": {},
   "source": [
    "#### [02-1] Define Keyword Tags for Multi-selections"
   ]
  },
  {
   "cell_type": "code",
   "execution_count": null,
   "id": "bc39279d",
   "metadata": {},
   "outputs": [],
   "source": [
    "w_keywords = pn.widgets.MultiChoice(name='Categories by keywords (choose all that apply):', \n",
    "                                    value=['All Categories'], options=list_topics2)\n",
    "\n",
    "pn.Column(w_keywords)"
   ]
  },
  {
   "cell_type": "markdown",
   "id": "452adf45",
   "metadata": {},
   "source": [
    "#### [02-2] Define slider for filterings of minimum budgets "
   ]
  },
  {
   "cell_type": "code",
   "execution_count": null,
   "id": "7248d213",
   "metadata": {},
   "outputs": [],
   "source": [
    "w_slider_minbudgets = pn.widgets.IntSlider(start=0, end=5000, value=0, step=100, \n",
    "                                           name='Minimum Budget (THB millions)')\n",
    "\n",
    "pn.Column(w_slider_minbudgets)"
   ]
  },
  {
   "cell_type": "code",
   "execution_count": null,
   "id": "11e06e7a",
   "metadata": {},
   "outputs": [],
   "source": [
    "w_slider_maxbudgets = pn.widgets.IntSlider(start=0, end=20000, value=20000, step=100, \n",
    "                                           name='Maximum Budget (THB millions)')\n",
    "\n",
    "pn.Column(w_slider_maxbudgets)"
   ]
  },
  {
   "cell_type": "markdown",
   "id": "2d9e1ec6",
   "metadata": {},
   "source": [
    "#### [02-3] Define slider for filtering top ranks"
   ]
  },
  {
   "cell_type": "code",
   "execution_count": null,
   "id": "c387c62d",
   "metadata": {},
   "outputs": [],
   "source": [
    "w_slider_topranks = pn.widgets.IntSlider(start=5, end=200, value=20, step=5, name='Top ranks')\n",
    "\n",
    "pn.Column(w_slider_topranks)"
   ]
  },
  {
   "cell_type": "markdown",
   "id": "333c94ef",
   "metadata": {},
   "source": [
    "#### [02-4] Define text box for containing substrings"
   ]
  },
  {
   "cell_type": "code",
   "execution_count": null,
   "id": "0684d542",
   "metadata": {},
   "outputs": [],
   "source": [
    "w_textsearch_h1 = pn.widgets.TextInput(name='Category (in Thai) contains:', value=' ')\n",
    "\n",
    "pn.Column(w_textsearch_h1)"
   ]
  },
  {
   "cell_type": "code",
   "execution_count": null,
   "id": "4a88a61d",
   "metadata": {
    "scrolled": true
   },
   "outputs": [],
   "source": [
    "w_textsearch_raw = pn.widgets.TextInput(name='Detailed descriptions (in Thai) contains:', value=' ')\n",
    "\n",
    "pn.Column(w_textsearch_raw)"
   ]
  },
  {
   "cell_type": "markdown",
   "id": "049d93cc",
   "metadata": {},
   "source": [
    "#### [02-5] Define switch button for h1desc and Raw2"
   ]
  },
  {
   "cell_type": "code",
   "execution_count": null,
   "id": "ff67eb20",
   "metadata": {},
   "outputs": [],
   "source": [
    "w_switch_hier = pn.widgets.RadioButtonGroup(value='Generic Categories', \n",
    "                                            options=['Generic Categories','Detailed Descriptions'])\n",
    "\n",
    "pn.Column(w_switch_hier)"
   ]
  },
  {
   "cell_type": "markdown",
   "id": "44e3266e",
   "metadata": {},
   "source": [
    "# "
   ]
  },
  {
   "cell_type": "markdown",
   "id": "3c8d6e21",
   "metadata": {},
   "source": [
    "# [03] Define charts receiving conditions from widgets"
   ]
  },
  {
   "cell_type": "code",
   "execution_count": null,
   "id": "48c9199a",
   "metadata": {},
   "outputs": [],
   "source": [
    "numcol = 'Budgets Mn'\n",
    "formatter = NumeralTickFormatter(format=\"0,0\")"
   ]
  },
  {
   "cell_type": "code",
   "execution_count": null,
   "id": "c3cc543e",
   "metadata": {
    "scrolled": false
   },
   "outputs": [],
   "source": [
    "@pn.depends(a=w_keywords \n",
    "            , b=w_slider_topranks\n",
    "            , c=w_slider_minbudgets\n",
    "            , d=w_slider_maxbudgets\n",
    "            , e=w_textsearch_h1\n",
    "           )\n",
    "def f_keywordfilters_h1(a,b,c,d,e):\n",
    "    chains = '|'.join(a)\n",
    "    dfplot = disp[\n",
    "                      (disp['Chained Tags'].str.contains(chains))\n",
    "                    & (disp['h1desc'].str.contains(e))\n",
    "                ]\n",
    "    \n",
    "    dfplot2 = dfplot[['h1desc',numcol]].groupby(['h1desc'], as_index=False)[numcol].agg('sum')\n",
    "    dfplot2 = dfplot2.sort_values(by=[numcol]).tail(b)\n",
    "    dfplot2 = dfplot2[\n",
    "                      (dfplot2[numcol] >= c) \n",
    "                    & (dfplot2[numcol] <= d)\n",
    "                ]\n",
    "    hbar_h1 = dfplot2.hvplot.barh('h1desc', numcol, xlabel='', \n",
    "                                  width=800, height=600,\n",
    "                                  ylabel='Budgets (THB millions)', line_color='white', xformatter=formatter, \n",
    "                                  title='{} Largest allocations of budgets'.format(b))\n",
    "    return hbar_h1\n",
    "\n",
    "pn.Column(\n",
    "      pn.Row(\n",
    "                w_keywords\n",
    "              , w_textsearch_h1\n",
    "              , w_textsearch_raw\n",
    "      )\n",
    "    , pn.Row(\n",
    "                w_slider_topranks\n",
    "              , w_slider_minbudgets\n",
    "              , w_slider_maxbudgets\n",
    "    )\n",
    "    , pn.Row(f_keywordfilters_h1)\n",
    ")"
   ]
  },
  {
   "cell_type": "markdown",
   "id": "9bd5b753",
   "metadata": {},
   "source": [
    "#### [02-5] Dashboard Templates"
   ]
  },
  {
   "cell_type": "code",
   "execution_count": null,
   "id": "6e3b4265",
   "metadata": {},
   "outputs": [],
   "source": [
    "template = pn.template.FastListTemplate(\n",
    "    title='BMA Budget Allocations for Fiscal Year 2023',\n",
    "    sidebar=[\n",
    "        pn.pane.PNG('https://upload.wikimedia.org/wikipedia/commons/thumb/a/ad/Seal_Bangkok_Metropolitan_Admin_%28green%29.svg/1200px-Seal_Bangkok_Metropolitan_Admin_%28green%29.svg.png',\n",
    "                   width=150, margin=(30,90))\n",
    "        , pn.pane.Markdown('## Apply filters here to see only what you would like to see', margin=(20,10))\n",
    "        , pn.Column(\n",
    "                      w_keywords\n",
    "                    , w_slider_topranks\n",
    "                    , w_slider_minbudgets\n",
    "                    , w_slider_maxbudgets\n",
    "                    , w_textsearch_h1\n",
    "                    )\n",
    "    ]\n",
    "    , main=[\n",
    "          pn.Row(f_keywordfilters_h1)\n",
    "    ]\n",
    "    , theme_toggle=False\n",
    ")\n",
    "\n",
    "template.show()\n",
    "# template.servable()"
   ]
  }
 ],
 "metadata": {
  "kernelspec": {
   "display_name": "Python 3 (ipykernel)",
   "language": "python",
   "name": "python3"
  },
  "language_info": {
   "codemirror_mode": {
    "name": "ipython",
    "version": 3
   },
   "file_extension": ".py",
   "mimetype": "text/x-python",
   "name": "python",
   "nbconvert_exporter": "python",
   "pygments_lexer": "ipython3",
   "version": "3.9.7"
  }
 },
 "nbformat": 4,
 "nbformat_minor": 5
}
